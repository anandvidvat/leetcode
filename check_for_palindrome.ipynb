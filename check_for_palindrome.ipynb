{
  "nbformat": 4,
  "nbformat_minor": 0,
  "metadata": {
    "colab": {
      "provenance": [],
      "authorship_tag": "ABX9TyPg3ob73gVaZe01oN5wzMAQ",
      "include_colab_link": true
    },
    "kernelspec": {
      "name": "python3",
      "display_name": "Python 3"
    },
    "language_info": {
      "name": "python"
    }
  },
  "cells": [
    {
      "cell_type": "markdown",
      "metadata": {
        "id": "view-in-github",
        "colab_type": "text"
      },
      "source": [
        "<a href=\"https://colab.research.google.com/github/anandvidvat/leetcode/blob/main/check_for_palindrome.ipynb\" target=\"_parent\"><img src=\"https://colab.research.google.com/assets/colab-badge.svg\" alt=\"Open In Colab\"/></a>"
      ]
    },
    {
      "cell_type": "code",
      "source": [
        "import math"
      ],
      "metadata": {
        "id": "f4HyMHopqPqe"
      },
      "execution_count": 3,
      "outputs": []
    },
    {
      "cell_type": "code",
      "execution_count": 4,
      "metadata": {
        "id": "nukLgZ7SpUN6"
      },
      "outputs": [],
      "source": [
        "sample_num1 = 1901 # no\n",
        "sample_num2 = 1881 # yes\n",
        "sample_num3 = 2002 # yes\n",
        "sample_num4 = 817930 # no\n",
        "sample_num5  = 90002112009 # no"
      ]
    },
    {
      "cell_type": "code",
      "source": [
        "int(math.log10(sample_num4) + 1)"
      ],
      "metadata": {
        "colab": {
          "base_uri": "https://localhost:8080/"
        },
        "id": "eYo8fdLdqJVW",
        "outputId": "cdef706a-0ee3-4e82-cc50-9c5e79ad0503"
      },
      "execution_count": 8,
      "outputs": [
        {
          "output_type": "execute_result",
          "data": {
            "text/plain": [
              "6"
            ]
          },
          "metadata": {},
          "execution_count": 8
        }
      ]
    },
    {
      "cell_type": "code",
      "source": [
        "\n",
        "def is_palindrome(input:int):\n",
        "\n",
        "  num_digits = int(math.log10(input) + 1)\n",
        "\n",
        "  stack = []\n",
        "  x = input\n",
        "  i = 0\n",
        "  not_match = False\n",
        "\n",
        "  while i < (num_digits//2) :\n",
        "\n",
        "    # get me the last digit\n",
        "    res = x%10\n",
        "    # get me remaining digits other than last digit\n",
        "    x = x//10\n",
        "\n",
        "    stack.append(res)\n",
        "\n",
        "    i += 1\n",
        "\n",
        "  print(stack)\n",
        "  while i < num_digits:\n",
        "\n",
        "    res = x%10\n",
        "\n",
        "    x = x//10\n",
        "\n",
        "    top_of_stack = stack[-1]\n",
        "    if top_of_stack == res :\n",
        "      stack.pop()\n",
        "      i += 1\n",
        "    else:\n",
        "      not_match = True\n",
        "      break\n",
        "\n",
        "  print(stack)\n",
        "\n",
        "  if not_match :\n",
        "    return 'no'\n",
        "\n",
        "  return 'yes'\n"
      ],
      "metadata": {
        "id": "RfT9O4z9pt87"
      },
      "execution_count": 16,
      "outputs": []
    },
    {
      "cell_type": "code",
      "source": [
        "is_palindrome(sample_num1)"
      ],
      "metadata": {
        "colab": {
          "base_uri": "https://localhost:8080/",
          "height": 71
        },
        "id": "E59ElVzQr1mW",
        "outputId": "ebaa885a-dc2b-4bdc-b63e-44dda1c13933"
      },
      "execution_count": 17,
      "outputs": [
        {
          "output_type": "stream",
          "name": "stdout",
          "text": [
            "[1, 0]\n",
            "[1, 0]\n"
          ]
        },
        {
          "output_type": "execute_result",
          "data": {
            "text/plain": [
              "'no'"
            ],
            "application/vnd.google.colaboratory.intrinsic+json": {
              "type": "string"
            }
          },
          "metadata": {},
          "execution_count": 17
        }
      ]
    },
    {
      "cell_type": "code",
      "source": [
        "is_palindrome(sample_num2)"
      ],
      "metadata": {
        "colab": {
          "base_uri": "https://localhost:8080/",
          "height": 71
        },
        "id": "lEsLiAUwr4R1",
        "outputId": "0ac8bb75-7860-4d47-99e9-8e4e0b5cb1b8"
      },
      "execution_count": 18,
      "outputs": [
        {
          "output_type": "stream",
          "name": "stdout",
          "text": [
            "[1, 8]\n",
            "[]\n"
          ]
        },
        {
          "output_type": "execute_result",
          "data": {
            "text/plain": [
              "'yes'"
            ],
            "application/vnd.google.colaboratory.intrinsic+json": {
              "type": "string"
            }
          },
          "metadata": {},
          "execution_count": 18
        }
      ]
    },
    {
      "cell_type": "code",
      "source": [
        "is_palindrome(sample_num3)"
      ],
      "metadata": {
        "colab": {
          "base_uri": "https://localhost:8080/",
          "height": 71
        },
        "id": "mPQYz8LJsFzv",
        "outputId": "29399951-060c-446e-c987-c9ab42c6b00f"
      },
      "execution_count": 19,
      "outputs": [
        {
          "output_type": "stream",
          "name": "stdout",
          "text": [
            "[2, 0]\n",
            "[]\n"
          ]
        },
        {
          "output_type": "execute_result",
          "data": {
            "text/plain": [
              "'yes'"
            ],
            "application/vnd.google.colaboratory.intrinsic+json": {
              "type": "string"
            }
          },
          "metadata": {},
          "execution_count": 19
        }
      ]
    },
    {
      "cell_type": "code",
      "source": [
        "is_palindrome(sample_num4)"
      ],
      "metadata": {
        "colab": {
          "base_uri": "https://localhost:8080/",
          "height": 71
        },
        "id": "hnXQNcdssLtm",
        "outputId": "f272be28-84ea-41a7-cfe8-b6d63943d88f"
      },
      "execution_count": 20,
      "outputs": [
        {
          "output_type": "stream",
          "name": "stdout",
          "text": [
            "[0, 3, 9]\n",
            "[0, 3, 9]\n"
          ]
        },
        {
          "output_type": "execute_result",
          "data": {
            "text/plain": [
              "'no'"
            ],
            "application/vnd.google.colaboratory.intrinsic+json": {
              "type": "string"
            }
          },
          "metadata": {},
          "execution_count": 20
        }
      ]
    },
    {
      "cell_type": "code",
      "source": [
        "is_palindrome(sample_num5)"
      ],
      "metadata": {
        "colab": {
          "base_uri": "https://localhost:8080/",
          "height": 71
        },
        "id": "71M9UP0BsPDj",
        "outputId": "67bef05d-d17a-4969-ade2-81d75942ff9d"
      },
      "execution_count": 21,
      "outputs": [
        {
          "output_type": "stream",
          "name": "stdout",
          "text": [
            "[9, 0, 0, 2, 1]\n",
            "[9]\n"
          ]
        },
        {
          "output_type": "execute_result",
          "data": {
            "text/plain": [
              "'no'"
            ],
            "application/vnd.google.colaboratory.intrinsic+json": {
              "type": "string"
            }
          },
          "metadata": {},
          "execution_count": 21
        }
      ]
    },
    {
      "cell_type": "code",
      "source": [],
      "metadata": {
        "id": "vjx4fVTOsR5z"
      },
      "execution_count": null,
      "outputs": []
    }
  ]
}