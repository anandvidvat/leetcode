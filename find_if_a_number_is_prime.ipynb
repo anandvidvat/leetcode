{
  "nbformat": 4,
  "nbformat_minor": 0,
  "metadata": {
    "colab": {
      "provenance": [],
      "authorship_tag": "ABX9TyP8iavgs6SnHKXzAaMuWFuo",
      "include_colab_link": true
    },
    "kernelspec": {
      "name": "python3",
      "display_name": "Python 3"
    },
    "language_info": {
      "name": "python"
    }
  },
  "cells": [
    {
      "cell_type": "markdown",
      "metadata": {
        "id": "view-in-github",
        "colab_type": "text"
      },
      "source": [
        "<a href=\"https://colab.research.google.com/github/anandvidvat/leetcode/blob/main/find_if_a_number_is_prime.ipynb\" target=\"_parent\"><img src=\"https://colab.research.google.com/assets/colab-badge.svg\" alt=\"Open In Colab\"/></a>"
      ]
    },
    {
      "cell_type": "code",
      "source": [
        "import math"
      ],
      "metadata": {
        "id": "u9qH8OWg3bIe"
      },
      "execution_count": 20,
      "outputs": []
    },
    {
      "cell_type": "code",
      "execution_count": 9,
      "metadata": {
        "id": "jQ8nHkgV1lyR"
      },
      "outputs": [],
      "source": [
        "sample_number1 = 13"
      ]
    },
    {
      "cell_type": "code",
      "source": [
        "sample_number2 = 11"
      ],
      "metadata": {
        "id": "cE39JtAQ1pjj"
      },
      "execution_count": 10,
      "outputs": []
    },
    {
      "cell_type": "code",
      "source": [
        "sample_number3 = 9"
      ],
      "metadata": {
        "id": "E5ibh3aa1shs"
      },
      "execution_count": 11,
      "outputs": []
    },
    {
      "cell_type": "code",
      "source": [
        "def is_prime(input):\n",
        "  flag = True\n",
        "\n",
        "  for i in range(2, input):\n",
        "    if input%i == 0:\n",
        "      flag = False\n",
        "      break\n",
        "  return flag"
      ],
      "metadata": {
        "id": "LHTLMxEi1ttj"
      },
      "execution_count": 16,
      "outputs": []
    },
    {
      "cell_type": "code",
      "source": [
        "is_prime(sample_number1)"
      ],
      "metadata": {
        "colab": {
          "base_uri": "https://localhost:8080/"
        },
        "id": "TEBkyoZp2CFD",
        "outputId": "1328a379-10ad-4e82-fb56-ccbe92bcfede"
      },
      "execution_count": 17,
      "outputs": [
        {
          "output_type": "execute_result",
          "data": {
            "text/plain": [
              "True"
            ]
          },
          "metadata": {},
          "execution_count": 17
        }
      ]
    },
    {
      "cell_type": "code",
      "source": [
        "is_prime(sample_number2)"
      ],
      "metadata": {
        "colab": {
          "base_uri": "https://localhost:8080/"
        },
        "id": "H6Qgg2we2D6e",
        "outputId": "b3ac4483-7016-406b-d117-3e5345f83947"
      },
      "execution_count": 18,
      "outputs": [
        {
          "output_type": "execute_result",
          "data": {
            "text/plain": [
              "True"
            ]
          },
          "metadata": {},
          "execution_count": 18
        }
      ]
    },
    {
      "cell_type": "code",
      "source": [
        "is_prime(sample_number3)"
      ],
      "metadata": {
        "colab": {
          "base_uri": "https://localhost:8080/"
        },
        "id": "tsHMFpTj2FJL",
        "outputId": "24c78405-2d5b-4e8b-ce5e-ff45965ba119"
      },
      "execution_count": 19,
      "outputs": [
        {
          "output_type": "execute_result",
          "data": {
            "text/plain": [
              "False"
            ]
          },
          "metadata": {},
          "execution_count": 19
        }
      ]
    },
    {
      "cell_type": "code",
      "source": [
        "def is_prime_opt(input):\n",
        "  print('input number is ', input)\n",
        "  sqrt_n = int(math.sqrt(input))\n",
        "  ls = []\n",
        "\n",
        "  for i in range(2, sqrt_n+1):\n",
        "    if input%i == 0:\n",
        "      ls.append(i)\n",
        "      other_factor = input//i\n",
        "      ls.append(other_factor)\n",
        "\n",
        "  print(ls)\n",
        "\n",
        "  return False if len(ls) > 0 else True\n"
      ],
      "metadata": {
        "id": "RHc1YhKA2HXu"
      },
      "execution_count": 25,
      "outputs": []
    },
    {
      "cell_type": "code",
      "source": [
        "is_prime_opt(sample_number1)"
      ],
      "metadata": {
        "colab": {
          "base_uri": "https://localhost:8080/"
        },
        "id": "iq7qW-4y3-Ar",
        "outputId": "7a64d3da-3c24-41f1-99eb-aabd49f6add6"
      },
      "execution_count": 26,
      "outputs": [
        {
          "output_type": "stream",
          "name": "stdout",
          "text": [
            "input number is  13\n",
            "[]\n"
          ]
        },
        {
          "output_type": "execute_result",
          "data": {
            "text/plain": [
              "True"
            ]
          },
          "metadata": {},
          "execution_count": 26
        }
      ]
    },
    {
      "cell_type": "code",
      "source": [
        "is_prime_opt(sample_number2)"
      ],
      "metadata": {
        "colab": {
          "base_uri": "https://localhost:8080/"
        },
        "id": "irl8qked3_kL",
        "outputId": "6f5eed02-ee46-46a7-eb83-006bbba6c5bb"
      },
      "execution_count": 27,
      "outputs": [
        {
          "output_type": "stream",
          "name": "stdout",
          "text": [
            "input number is  11\n",
            "[]\n"
          ]
        },
        {
          "output_type": "execute_result",
          "data": {
            "text/plain": [
              "True"
            ]
          },
          "metadata": {},
          "execution_count": 27
        }
      ]
    },
    {
      "cell_type": "code",
      "source": [
        "is_prime_opt(sample_number3)"
      ],
      "metadata": {
        "colab": {
          "base_uri": "https://localhost:8080/"
        },
        "id": "1BTa7YlP4J3Q",
        "outputId": "bb54617f-76a2-4ddb-f85e-61233bd0ade6"
      },
      "execution_count": 28,
      "outputs": [
        {
          "output_type": "stream",
          "name": "stdout",
          "text": [
            "input number is  9\n",
            "[3, 3]\n"
          ]
        },
        {
          "output_type": "execute_result",
          "data": {
            "text/plain": [
              "False"
            ]
          },
          "metadata": {},
          "execution_count": 28
        }
      ]
    },
    {
      "cell_type": "code",
      "source": [
        "is_prime_opt(54)"
      ],
      "metadata": {
        "colab": {
          "base_uri": "https://localhost:8080/"
        },
        "id": "ohFjSRLB4K2D",
        "outputId": "1660a996-65d5-4e56-8dff-a68010748649"
      },
      "execution_count": 29,
      "outputs": [
        {
          "output_type": "stream",
          "name": "stdout",
          "text": [
            "input number is  54\n",
            "[2, 27, 3, 18, 6, 9]\n"
          ]
        },
        {
          "output_type": "execute_result",
          "data": {
            "text/plain": [
              "False"
            ]
          },
          "metadata": {},
          "execution_count": 29
        }
      ]
    },
    {
      "cell_type": "code",
      "source": [
        "is_prime_opt(27)"
      ],
      "metadata": {
        "colab": {
          "base_uri": "https://localhost:8080/"
        },
        "id": "5keHeBmG4Nrt",
        "outputId": "264d67cf-8c38-4462-d7bd-e58237613de7"
      },
      "execution_count": 30,
      "outputs": [
        {
          "output_type": "stream",
          "name": "stdout",
          "text": [
            "input number is  27\n",
            "[3, 9]\n"
          ]
        },
        {
          "output_type": "execute_result",
          "data": {
            "text/plain": [
              "False"
            ]
          },
          "metadata": {},
          "execution_count": 30
        }
      ]
    },
    {
      "cell_type": "code",
      "source": [],
      "metadata": {
        "id": "pgfWbJ4B4RIP"
      },
      "execution_count": null,
      "outputs": []
    }
  ]
}