{
  "nbformat": 4,
  "nbformat_minor": 0,
  "metadata": {
    "colab": {
      "provenance": [],
      "authorship_tag": "ABX9TyNzJjxNbTEk4vZ5rVpV6BqT",
      "include_colab_link": true
    },
    "kernelspec": {
      "name": "python3",
      "display_name": "Python 3"
    },
    "language_info": {
      "name": "python"
    }
  },
  "cells": [
    {
      "cell_type": "markdown",
      "metadata": {
        "id": "view-in-github",
        "colab_type": "text"
      },
      "source": [
        "<a href=\"https://colab.research.google.com/github/anandvidvat/leetcode/blob/main/tree/binary_tree.ipynb\" target=\"_parent\"><img src=\"https://colab.research.google.com/assets/colab-badge.svg\" alt=\"Open In Colab\"/></a>"
      ]
    },
    {
      "cell_type": "code",
      "execution_count": null,
      "metadata": {
        "id": "ZofBS08bOHwH"
      },
      "outputs": [],
      "source": [
        "class Node:\n",
        "\n",
        "  def __init__(self,value, left, right):\n",
        "    self.value = value\n",
        "    self.left  = left\n",
        "    self.right = right"
      ]
    },
    {
      "cell_type": "code",
      "source": [],
      "metadata": {
        "id": "4faQD5x4OnqR"
      },
      "execution_count": null,
      "outputs": []
    }
  ]
}