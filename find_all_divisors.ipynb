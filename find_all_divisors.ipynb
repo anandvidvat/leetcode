{
  "nbformat": 4,
  "nbformat_minor": 0,
  "metadata": {
    "colab": {
      "provenance": [],
      "authorship_tag": "ABX9TyO1Kku7RvGo/C9QhnBOrKIN",
      "include_colab_link": true
    },
    "kernelspec": {
      "name": "python3",
      "display_name": "Python 3"
    },
    "language_info": {
      "name": "python"
    }
  },
  "cells": [
    {
      "cell_type": "markdown",
      "metadata": {
        "id": "view-in-github",
        "colab_type": "text"
      },
      "source": [
        "<a href=\"https://colab.research.google.com/github/anandvidvat/leetcode/blob/main/find_all_divisors.ipynb\" target=\"_parent\"><img src=\"https://colab.research.google.com/assets/colab-badge.svg\" alt=\"Open In Colab\"/></a>"
      ]
    },
    {
      "cell_type": "code",
      "execution_count": 6,
      "metadata": {
        "id": "EyS8LhS921dn"
      },
      "outputs": [],
      "source": [
        "sample_num1 = 36 # answer is [1, 2, 3, 4, 6, 9, 12, 18, 36]\n",
        "sample_num2 = 12 # answer is [1, 2, 3, 4, 6, 12]"
      ]
    },
    {
      "cell_type": "code",
      "source": [
        "def calculate_divisors(number):\n",
        "  \"\"\"\n",
        "  brute force approach\n",
        "  \"\"\"\n",
        "  n = number\n",
        "  ls = []\n",
        "  for i in range (1,n):\n",
        "    if n%i == 0:ls.append(i)\n",
        "  ls.append(n)\n",
        "  return ls"
      ],
      "metadata": {
        "id": "SQ6wIFwi4g0U"
      },
      "execution_count": 7,
      "outputs": []
    },
    {
      "cell_type": "code",
      "source": [
        "calculate_divisors(sample_num1)"
      ],
      "metadata": {
        "colab": {
          "base_uri": "https://localhost:8080/"
        },
        "id": "TgxYfiQv4u60",
        "outputId": "9670ef56-f063-41ac-cb03-c78d08f0bf87"
      },
      "execution_count": 8,
      "outputs": [
        {
          "output_type": "execute_result",
          "data": {
            "text/plain": [
              "[1, 2, 3, 4, 6, 9, 12, 18, 36]"
            ]
          },
          "metadata": {},
          "execution_count": 8
        }
      ]
    },
    {
      "cell_type": "code",
      "source": [
        "calculate_divisors(sample_num2)"
      ],
      "metadata": {
        "colab": {
          "base_uri": "https://localhost:8080/"
        },
        "id": "Suc9VptT4xIg",
        "outputId": "98fc3392-2957-40d7-89fd-b74411b091e9"
      },
      "execution_count": 9,
      "outputs": [
        {
          "output_type": "execute_result",
          "data": {
            "text/plain": [
              "[1, 2, 3, 4, 6, 12]"
            ]
          },
          "metadata": {},
          "execution_count": 9
        }
      ]
    },
    {
      "cell_type": "code",
      "source": [
        "# testing the asser condition\n",
        "assert calculate_divisors(sample_num1) == [1, 2, 3, 4, 6, 12], \"Not the Answer for given Input\""
      ],
      "metadata": {
        "colab": {
          "base_uri": "https://localhost:8080/",
          "height": 162
        },
        "id": "2U37vCDX4z4e",
        "outputId": "06a5eeb0-8454-41c6-8c0d-78342eb6d71f"
      },
      "execution_count": 10,
      "outputs": [
        {
          "output_type": "error",
          "ename": "AssertionError",
          "evalue": "Not the Answer for given Input",
          "traceback": [
            "\u001b[0;31m---------------------------------------------------------------------------\u001b[0m",
            "\u001b[0;31mAssertionError\u001b[0m                            Traceback (most recent call last)",
            "\u001b[0;32m/tmp/ipython-input-1881358630.py\u001b[0m in \u001b[0;36m<cell line: 0>\u001b[0;34m()\u001b[0m\n\u001b[0;32m----> 1\u001b[0;31m \u001b[0;32massert\u001b[0m \u001b[0mcalculate_divisors\u001b[0m\u001b[0;34m(\u001b[0m\u001b[0msample_num1\u001b[0m\u001b[0;34m)\u001b[0m \u001b[0;34m==\u001b[0m \u001b[0;34m[\u001b[0m\u001b[0;36m1\u001b[0m\u001b[0;34m,\u001b[0m \u001b[0;36m2\u001b[0m\u001b[0;34m,\u001b[0m \u001b[0;36m3\u001b[0m\u001b[0;34m,\u001b[0m \u001b[0;36m4\u001b[0m\u001b[0;34m,\u001b[0m \u001b[0;36m6\u001b[0m\u001b[0;34m,\u001b[0m \u001b[0;36m12\u001b[0m\u001b[0;34m]\u001b[0m\u001b[0;34m,\u001b[0m \u001b[0;34m\"Not the Answer for given Input\"\u001b[0m\u001b[0;34m\u001b[0m\u001b[0;34m\u001b[0m\u001b[0m\n\u001b[0m",
            "\u001b[0;31mAssertionError\u001b[0m: Not the Answer for given Input"
          ]
        }
      ]
    },
    {
      "cell_type": "code",
      "source": [
        "assert calculate_divisors(sample_num1) == [1, 2, 3, 4, 6, 9, 12, 18, 36], \"Not the Answer for given Input\""
      ],
      "metadata": {
        "id": "KHWTNQxw5LW5"
      },
      "execution_count": 12,
      "outputs": []
    },
    {
      "cell_type": "code",
      "source": [
        "assert calculate_divisors(sample_num2) == [1, 2, 3, 4, 6, 12], \"Not the Answer for given Input\""
      ],
      "metadata": {
        "id": "Vag9E8sC5GbO"
      },
      "execution_count": 11,
      "outputs": []
    },
    {
      "cell_type": "code",
      "source": [
        "import math"
      ],
      "metadata": {
        "id": "tY480Sz69zwO"
      },
      "execution_count": 13,
      "outputs": []
    },
    {
      "cell_type": "code",
      "source": [
        "math.sqrt(144)"
      ],
      "metadata": {
        "colab": {
          "base_uri": "https://localhost:8080/"
        },
        "id": "JR1NyQMP90-c",
        "outputId": "faa553d3-a465-423a-cce1-f0bd1352fd64"
      },
      "execution_count": 14,
      "outputs": [
        {
          "output_type": "execute_result",
          "data": {
            "text/plain": [
              "12.0"
            ]
          },
          "metadata": {},
          "execution_count": 14
        }
      ]
    },
    {
      "cell_type": "code",
      "source": [
        "def calculate_divisors_ops(number):\n",
        "  \"\"\"\n",
        "  optimal approach\n",
        "  use sqrt\n",
        "  \"\"\"\n",
        "\n",
        "  n = int(math.sqrt(number))\n",
        "\n",
        "  ls = []\n",
        "  # n+1 so that range is till n inclusive\n",
        "  # so the approch is optimal since it iterates only till sqrt of input number\n",
        "  # so for an input of 144, it only needs to iterate through 12 or so\n",
        "  for i in range(1, n+1):\n",
        "    if number%i == 0 :\n",
        "      ls.append(i)\n",
        "      cal = number//i\n",
        "      if i != cal:\n",
        "        ls.append(cal)\n",
        "  return sorted(ls)"
      ],
      "metadata": {
        "id": "tYz7S5jD5E-0"
      },
      "execution_count": 21,
      "outputs": []
    },
    {
      "cell_type": "code",
      "source": [
        "assert calculate_divisors_ops(sample_num1) == [1, 2, 3, 4, 6, 9, 12, 18, 36], \"Not the Answer for given Input\""
      ],
      "metadata": {
        "id": "Y-5Fz9uj-0S7"
      },
      "execution_count": 23,
      "outputs": []
    },
    {
      "cell_type": "code",
      "source": [],
      "metadata": {
        "id": "T5aDh3yj-1_O"
      },
      "execution_count": null,
      "outputs": []
    }
  ]
}