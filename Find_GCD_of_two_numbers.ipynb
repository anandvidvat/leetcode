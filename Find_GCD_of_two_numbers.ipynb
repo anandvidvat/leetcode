{
  "nbformat": 4,
  "nbformat_minor": 0,
  "metadata": {
    "colab": {
      "provenance": [],
      "authorship_tag": "ABX9TyNIMDGPOuT8UC5QIYATxU6c",
      "include_colab_link": true
    },
    "kernelspec": {
      "name": "python3",
      "display_name": "Python 3"
    },
    "language_info": {
      "name": "python"
    }
  },
  "cells": [
    {
      "cell_type": "markdown",
      "metadata": {
        "id": "view-in-github",
        "colab_type": "text"
      },
      "source": [
        "<a href=\"https://colab.research.google.com/github/anandvidvat/leetcode/blob/main/Find_GCD_of_two_numbers.ipynb\" target=\"_parent\"><img src=\"https://colab.research.google.com/assets/colab-badge.svg\" alt=\"Open In Colab\"/></a>"
      ]
    },
    {
      "cell_type": "code",
      "execution_count": 1,
      "metadata": {
        "id": "INOru_Xna9ca"
      },
      "outputs": [],
      "source": [
        "sample_num1 =  (12, 15)\n",
        "sample_num2 =  (20, 15)\n",
        "sample_num3 =  (126, 98)"
      ]
    },
    {
      "cell_type": "code",
      "source": [
        "from re import I\n",
        "def calculate_gcd(pair) :\n",
        "\n",
        "  (num1, num2) = pair\n",
        "\n",
        "  smaller = num1 if num1 < num2     else num2\n",
        "  larger =  num2 if num1 == smaller else num1\n",
        "\n",
        "  smaller_ls = []\n",
        "  larger_ls = []\n",
        "\n",
        "  gcd = 0\n",
        "\n",
        "  for i in range(smaller, 0, -1):\n",
        "    if smaller%i == 0 and larger%i == 0 :\n",
        "      gcd = i\n",
        "      break\n",
        "\n",
        "  return gcd\n"
      ],
      "metadata": {
        "id": "1C7xQnMIbO2v"
      },
      "execution_count": 2,
      "outputs": []
    },
    {
      "cell_type": "code",
      "source": [
        "def euclidian_expression(num1, num2):\n",
        "  print(num1, num2)\n",
        "  if (num1 == 0 and num2 != 0) or (num1 != 0 and num2 ==0 ) :\n",
        "    return num1 if num1!=0 else num2\n",
        "\n",
        "  #print('non_base_case', num1, num2)\n",
        "  min_val = num1 if num1 < num2 else num2\n",
        "  max_val = num2 if num1 == min_val else num1\n",
        "  #print(max_val - min_val, min_val)\n",
        "  return euclidian_expression(max_val - min_val, min_val)\n"
      ],
      "metadata": {
        "id": "kQunSJMvspEY"
      },
      "execution_count": 7,
      "outputs": []
    },
    {
      "cell_type": "code",
      "source": [
        "euclidian_expression(20,15)"
      ],
      "metadata": {
        "colab": {
          "base_uri": "https://localhost:8080/"
        },
        "id": "khUCB8wCtmEV",
        "outputId": "c1abf981-32a3-429a-d438-2d2cb8bfa968"
      },
      "execution_count": 8,
      "outputs": [
        {
          "output_type": "stream",
          "name": "stdout",
          "text": [
            "20 15\n",
            "5 15\n",
            "10 5\n",
            "5 5\n",
            "0 5\n"
          ]
        },
        {
          "output_type": "execute_result",
          "data": {
            "text/plain": [
              "5"
            ]
          },
          "metadata": {},
          "execution_count": 8
        }
      ]
    },
    {
      "cell_type": "code",
      "source": [
        "euclidian_expression(9,27)"
      ],
      "metadata": {
        "colab": {
          "base_uri": "https://localhost:8080/"
        },
        "id": "JmX-aDjFtpbh",
        "outputId": "2562b989-132a-4020-f6a2-c7c500c9922b"
      },
      "execution_count": 12,
      "outputs": [
        {
          "output_type": "stream",
          "name": "stdout",
          "text": [
            "9 27\n",
            "18 9\n",
            "9 9\n",
            "0 9\n"
          ]
        },
        {
          "output_type": "execute_result",
          "data": {
            "text/plain": [
              "9"
            ]
          },
          "metadata": {},
          "execution_count": 12
        }
      ]
    },
    {
      "cell_type": "code",
      "source": [],
      "metadata": {
        "id": "AI0w_j9ntrgA"
      },
      "execution_count": null,
      "outputs": []
    },
    {
      "cell_type": "code",
      "source": [
        "calculate_gcd(sample_num1)"
      ],
      "metadata": {
        "id": "kRoL-vkdb6ZY"
      },
      "execution_count": null,
      "outputs": []
    },
    {
      "cell_type": "code",
      "source": [
        "calculate_gcd(sample_num2)"
      ],
      "metadata": {
        "colab": {
          "base_uri": "https://localhost:8080/"
        },
        "id": "1BDFYvDQdBXd",
        "outputId": "7bdfb3a9-e4dd-4c78-adbb-70d96c5e6d8a"
      },
      "execution_count": 5,
      "outputs": [
        {
          "output_type": "execute_result",
          "data": {
            "text/plain": [
              "5"
            ]
          },
          "metadata": {},
          "execution_count": 5
        }
      ]
    },
    {
      "cell_type": "code",
      "source": [
        "calculate_gcd(sample_num3)"
      ],
      "metadata": {
        "colab": {
          "base_uri": "https://localhost:8080/"
        },
        "id": "saqlVbDBef5Z",
        "outputId": "b6226f12-b921-41fc-934a-8fd2bcc1d57e"
      },
      "execution_count": 6,
      "outputs": [
        {
          "output_type": "execute_result",
          "data": {
            "text/plain": [
              "14"
            ]
          },
          "metadata": {},
          "execution_count": 6
        }
      ]
    },
    {
      "cell_type": "code",
      "source": [],
      "metadata": {
        "id": "uA_8I5a4eh39"
      },
      "execution_count": 6,
      "outputs": []
    }
  ]
}