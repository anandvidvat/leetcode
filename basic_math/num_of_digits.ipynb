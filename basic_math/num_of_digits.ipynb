{
  "nbformat": 4,
  "nbformat_minor": 0,
  "metadata": {
    "colab": {
      "provenance": [],
      "toc_visible": true,
      "authorship_tag": "ABX9TyMbDaO4Imw5+PryzNCYw1Ou",
      "include_colab_link": true
    },
    "kernelspec": {
      "name": "python3",
      "display_name": "Python 3"
    },
    "language_info": {
      "name": "python"
    }
  },
  "cells": [
    {
      "cell_type": "markdown",
      "metadata": {
        "id": "view-in-github",
        "colab_type": "text"
      },
      "source": [
        "<a href=\"https://colab.research.google.com/github/anandvidvat/leetcode/blob/main/cound_num_of_digits.ipynb\" target=\"_parent\"><img src=\"https://colab.research.google.com/assets/colab-badge.svg\" alt=\"Open In Colab\"/></a>"
      ]
    },
    {
      "cell_type": "code",
      "source": [
        "import math"
      ],
      "metadata": {
        "id": "jJtXzJ6DPvqD"
      },
      "execution_count": 1,
      "outputs": []
    },
    {
      "cell_type": "code",
      "execution_count": 2,
      "metadata": {
        "id": "LBoyA9-oJUpc"
      },
      "outputs": [],
      "source": [
        "# the following are inputs for testing\n",
        "sample_num1 = 16348       # 5 digits\n",
        "sample_num2 = 983894893   # 9 digits\n",
        "sample_num3 = -938192     # 6 digits\n",
        "sample_num4 = -1          # 1 digit"
      ]
    },
    {
      "cell_type": "code",
      "source": [
        "# Brute force approch\n",
        "val = sample_num4\n",
        "\n",
        "# use mod operator with 10 to figure out the remainder and do continuous division\n",
        "\n",
        "r = val # float('+inf') # represents minus infinity\n",
        "num_iter = 0\n",
        "\n",
        "while abs(r) >= 1 :\n",
        "  num_iter += 1\n",
        "  r = r/10\n",
        "  print(r, num_iter)\n",
        "\n",
        "# time complexity is log N base 10, since the while loop run depends on r being divided by 10\n",
        "# when ever there is division operation which drives the while loop, the time complexity is likely to be logorithmic"
      ],
      "metadata": {
        "colab": {
          "base_uri": "https://localhost:8080/"
        },
        "id": "16_9VeHeLAOX",
        "outputId": "b94d1399-43e5-4bee-a59b-ade782a54ee8"
      },
      "execution_count": 3,
      "outputs": [
        {
          "output_type": "stream",
          "name": "stdout",
          "text": [
            "-0.1 1\n"
          ]
        }
      ]
    },
    {
      "cell_type": "code",
      "source": [
        "print(val)"
      ],
      "metadata": {
        "colab": {
          "base_uri": "https://localhost:8080/"
        },
        "id": "341_m1qBKo0J",
        "outputId": "e47129a2-5080-46e4-eb9f-ea4ec2746fc0"
      },
      "execution_count": 4,
      "outputs": [
        {
          "output_type": "stream",
          "name": "stdout",
          "text": [
            "-1\n"
          ]
        }
      ]
    },
    {
      "cell_type": "markdown",
      "source": [
        "notes  :\n",
        " now that we know that logorithmic time complexity of num digits, we can just use the formula\n",
        " log10(n) + 1 ==> plus 1 is to account for extra time for counting 10\n",
        " consider input to be 13\n",
        " log10(13) is 1 ==> means it has 1 a\n",
        " as power one but the input is 11,\n",
        " so reminder is 3, which is an extra digit hence int(log10(n) + 1) = int(1.xxx +1) = int(2.xxx)\n",
        " finally resulting in 2 being number of digits"
      ],
      "metadata": {
        "id": "eDEi9d5SRIcd"
      }
    },
    {
      "cell_type": "code",
      "source": [
        "\n",
        "# using logerithnic formula to calculate the number of digits\n",
        "def calculate_num_digits(input_value):\n",
        "  # convert input_value to positive if its negative for this formula to work\n",
        "  if input_value < 0 :\n",
        "    input_value = input_value*-1\n",
        "  val = int(math.log10(input_value) + 1)\n",
        "  return val"
      ],
      "metadata": {
        "id": "CjLPCC9vPxT7"
      },
      "execution_count": 5,
      "outputs": []
    },
    {
      "cell_type": "code",
      "source": [
        "# testing the output of the above function using expected matching"
      ],
      "metadata": {
        "id": "4ieJHDC7SMvo"
      },
      "execution_count": 6,
      "outputs": []
    },
    {
      "cell_type": "code",
      "source": [
        "assert calculate_num_digits(sample_num1) == 5,\"something has gone wrong \""
      ],
      "metadata": {
        "id": "Kcoz-B6cRn9r"
      },
      "execution_count": 7,
      "outputs": []
    },
    {
      "cell_type": "code",
      "source": [
        "assert calculate_num_digits(sample_num2) == 9,\"something has gone wrong \""
      ],
      "metadata": {
        "id": "1ppWGdQzRrZA"
      },
      "execution_count": 8,
      "outputs": []
    },
    {
      "cell_type": "code",
      "source": [
        "assert calculate_num_digits(sample_num3) == 6,\"something has gone wrong \""
      ],
      "metadata": {
        "id": "vLeI_DPWRtOy"
      },
      "execution_count": 9,
      "outputs": []
    },
    {
      "cell_type": "code",
      "source": [
        "assert calculate_num_digits(sample_num4) == 1,\"something has gone wrong \""
      ],
      "metadata": {
        "id": "XU4_nTmSRu1u"
      },
      "execution_count": 10,
      "outputs": []
    },
    {
      "cell_type": "code",
      "source": [
        "# ignore the code snippet as this is for only checking if the assertion statement are working or not\n",
        "assert calculate_num_digits(120) == 4, \"something has gone wrong \""
      ],
      "metadata": {
        "colab": {
          "base_uri": "https://localhost:8080/",
          "height": 162
        },
        "id": "yUv2FHnERwhV",
        "outputId": "6fd0b52c-d54b-45f0-bb89-3899c4d25463"
      },
      "execution_count": 11,
      "outputs": [
        {
          "output_type": "error",
          "ename": "AssertionError",
          "evalue": "something has gone wrong ",
          "traceback": [
            "\u001b[0;31m---------------------------------------------------------------------------\u001b[0m",
            "\u001b[0;31mAssertionError\u001b[0m                            Traceback (most recent call last)",
            "\u001b[0;32m/tmp/ipython-input-3757087548.py\u001b[0m in \u001b[0;36m<cell line: 0>\u001b[0;34m()\u001b[0m\n\u001b[1;32m      1\u001b[0m \u001b[0;31m# ignore the code snippet as this is for only checking if the assertion statement are working or not\u001b[0m\u001b[0;34m\u001b[0m\u001b[0;34m\u001b[0m\u001b[0m\n\u001b[0;32m----> 2\u001b[0;31m \u001b[0;32massert\u001b[0m \u001b[0mcalculate_num_digits\u001b[0m\u001b[0;34m(\u001b[0m\u001b[0;36m120\u001b[0m\u001b[0;34m)\u001b[0m \u001b[0;34m==\u001b[0m \u001b[0;36m4\u001b[0m\u001b[0;34m,\u001b[0m \u001b[0;34m\"something has gone wrong \"\u001b[0m\u001b[0;34m\u001b[0m\u001b[0;34m\u001b[0m\u001b[0m\n\u001b[0m",
            "\u001b[0;31mAssertionError\u001b[0m: something has gone wrong "
          ]
        }
      ]
    },
    {
      "cell_type": "code",
      "source": [],
      "metadata": {
        "id": "Pdn0B2njSTJT"
      },
      "execution_count": null,
      "outputs": []
    }
  ]
}
