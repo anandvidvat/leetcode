{
  "nbformat": 4,
  "nbformat_minor": 0,
  "metadata": {
    "colab": {
      "provenance": [],
      "authorship_tag": "ABX9TyNm0YldM+GMiTpz+xuR925m",
      "include_colab_link": true
    },
    "kernelspec": {
      "name": "python3",
      "display_name": "Python 3"
    },
    "language_info": {
      "name": "python"
    }
  },
  "cells": [
    {
      "cell_type": "markdown",
      "metadata": {
        "id": "view-in-github",
        "colab_type": "text"
      },
      "source": [
        "<a href=\"https://colab.research.google.com/github/anandvidvat/leetcode/blob/main/move_to_end.ipynb\" target=\"_parent\"><img src=\"https://colab.research.google.com/assets/colab-badge.svg\" alt=\"Open In Colab\"/></a>"
      ]
    },
    {
      "cell_type": "code",
      "source": [
        "from typing import List\n"
      ],
      "metadata": {
        "id": "7J_JhsNPXeSa"
      },
      "execution_count": null,
      "outputs": []
    },
    {
      "cell_type": "code",
      "execution_count": null,
      "metadata": {
        "id": "M117Yw0tW_1B"
      },
      "outputs": [],
      "source": [
        "\n",
        "def moveZerosToEnd(arr: List[int]) -> List[int]:\n",
        "\n",
        "    n = len(arr)\n",
        "\n",
        "    all_zeros_flag = True\n",
        "\n",
        "    for i in range(0, n):\n",
        "      if arr[i] != 0 :\n",
        "        all_zeros_flag = False\n",
        "        break\n",
        "\n",
        "    if all_zeros_flag:\n",
        "      print('all zeros flag')\n",
        "      return arr\n",
        "\n",
        "\n",
        "    l = r = float('-inf')\n",
        "\n",
        "    for i in range(0, n):\n",
        "      if arr[i] == 0 :\n",
        "        l = i\n",
        "        break\n",
        "\n",
        "    r = l + 1\n",
        "\n",
        "    print(l, r)\n",
        "\n",
        "    while l < r and r < n :\n",
        "      while arr[r] == 0 and r < n : r += 1\n",
        "      while arr[l] != 0 and l < r: l += 1\n",
        "      while  (l < r and r < n) and (arr[l] == 0 and arr[r] != 0) :\n",
        "            arr[l], arr[r] = arr[r], arr[l]\n",
        "            l += 1\n",
        "            r += 1\n",
        "    return arr\n"
      ]
    },
    {
      "cell_type": "code",
      "source": [
        "print(moveZerosToEnd([0, 1, 0, 3, 12]))"
      ],
      "metadata": {
        "colab": {
          "base_uri": "https://localhost:8080/"
        },
        "id": "cz6tKGWyXDy_",
        "outputId": "e1a11c80-4f8e-4bab-e12c-410d2c1b9bc3"
      },
      "execution_count": null,
      "outputs": [
        {
          "output_type": "stream",
          "name": "stdout",
          "text": [
            "1\n",
            "2\n",
            "0 1\n",
            "3\n",
            "[1, 3, 12, 0, 0]\n"
          ]
        }
      ]
    },
    {
      "cell_type": "code",
      "source": [
        "print(moveZerosToEnd([6, 1, 0, 3, 0, -1, 2]))"
      ],
      "metadata": {
        "colab": {
          "base_uri": "https://localhost:8080/"
        },
        "id": "jc8TJ-RzXH_m",
        "outputId": "40a2983c-e31e-4f81-fc6d-8b8ad3993800"
      },
      "execution_count": null,
      "outputs": [
        {
          "output_type": "stream",
          "name": "stdout",
          "text": [
            "1\n",
            "2\n",
            "2 3\n",
            "3\n",
            "[6, 1, 3, -1, 2, 0, 0]\n"
          ]
        }
      ]
    },
    {
      "cell_type": "code",
      "source": [],
      "metadata": {
        "id": "biy1NKNuXMeI"
      },
      "execution_count": null,
      "outputs": []
    }
  ]
}